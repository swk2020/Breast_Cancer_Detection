{
 "cells": [
  {
   "cell_type": "markdown",
   "metadata": {},
   "source": [
    "# BREAST CANCER PREDICTION - DTC and CCP"
   ]
  },
  {
   "cell_type": "markdown",
   "metadata": {},
   "source": [
    "Part one: Making an initial model\n",
    "\n",
    "Part two: Optimization of model with parameter alpha"
   ]
  },
  {
   "cell_type": "code",
   "execution_count": 1,
   "metadata": {},
   "outputs": [],
   "source": [
    "import pandas as pd\n",
    "import numpy as np\n",
    "import matplotlib.pyplot as plt\n",
    "from sklearn.tree import DecisionTreeClassifier\n",
    "from sklearn.tree import plot_tree\n",
    "from sklearn.model_selection import train_test_split\n",
    "from sklearn.model_selection import cross_val_score\n",
    "from sklearn.metrics import confusion_matrix\n",
    "from sklearn.metrics import plot_confusion_matrix\n",
    "import random\n",
    "import numpy as np\n",
    "import pandas as pd\n",
    "import os\n",
    "from sklearn.preprocessing import LabelEncoder\n",
    "from sklearn.model_selection import train_test_split\n",
    "from sklearn.model_selection import RandomizedSearchCV, GridSearchCV\n",
    "from sklearn import tree\n",
    "from sklearn.metrics import accuracy_score,confusion_matrix\n",
    "import seaborn as sns\n",
    "import matplotlib.pyplot as plt\n",
    "from sklearn import metrics"
   ]
  },
  {
   "cell_type": "markdown",
   "metadata": {},
   "source": [
    "# Part one: Making an initial model ------ START"
   ]
  },
  {
   "cell_type": "code",
   "execution_count": 2,
   "metadata": {},
   "outputs": [],
   "source": [
    "# Loading the sk learn breast cancer data set\n",
    "\n",
    "from sklearn.datasets import load_breast_cancer\n",
    "cancer = load_breast_cancer()\n",
    "\n",
    "df = pd.DataFrame(cancer.data, columns=cancer.feature_names)\n",
    "df['target'] = pd.Series(cancer.target)\n",
    "\n",
    "df\n",
    "\n",
    "# Features are all the columns except the target (has breast cancer)\n",
    "X = df[df.columns[:-1]]\n",
    "\n",
    "# Target is the has breast cancer target column\n",
    "y = df['target']\n"
   ]
  },
  {
   "cell_type": "code",
   "execution_count": 3,
   "metadata": {},
   "outputs": [
    {
     "data": {
      "text/plain": [
       "mean radius                float64\n",
       "mean texture               float64\n",
       "mean perimeter             float64\n",
       "mean area                  float64\n",
       "mean smoothness            float64\n",
       "mean compactness           float64\n",
       "mean concavity             float64\n",
       "mean concave points        float64\n",
       "mean symmetry              float64\n",
       "mean fractal dimension     float64\n",
       "radius error               float64\n",
       "texture error              float64\n",
       "perimeter error            float64\n",
       "area error                 float64\n",
       "smoothness error           float64\n",
       "compactness error          float64\n",
       "concavity error            float64\n",
       "concave points error       float64\n",
       "symmetry error             float64\n",
       "fractal dimension error    float64\n",
       "worst radius               float64\n",
       "worst texture              float64\n",
       "worst perimeter            float64\n",
       "worst area                 float64\n",
       "worst smoothness           float64\n",
       "worst compactness          float64\n",
       "worst concavity            float64\n",
       "worst concave points       float64\n",
       "worst symmetry             float64\n",
       "worst fractal dimension    float64\n",
       "target                       int32\n",
       "dtype: object"
      ]
     },
     "execution_count": 3,
     "metadata": {},
     "output_type": "execute_result"
    }
   ],
   "source": [
    "# Formatting the  data\n",
    "# See if there is anything unexpected.\n",
    "df.dtypes"
   ]
  },
  {
   "cell_type": "code",
   "execution_count": 4,
   "metadata": {},
   "outputs": [],
   "source": [
    "# STEP 3\n",
    "# Select a model to use and instantiate an instance of it saved as a variable\n",
    "# Split the data\n",
    "X_train, X_test, y_train, y_test = train_test_split(X, y, random_state = 42)\n",
    "# Step 4\n",
    "# Set the prediction target 'y' and make a features df 'X'\n",
    "# Instatiate a decision tree classifier object  ### This is the initial model to be later optimised\n",
    "clf_dt = DecisionTreeClassifier()\n",
    "# Train the model with the training X and y\n",
    "clf_dt = clf_dt.fit(X_train, y_train)"
   ]
  },
  {
   "cell_type": "code",
   "execution_count": 5,
   "metadata": {},
   "outputs": [],
   "source": [
    "# Step 5 - Evaluate the model"
   ]
  },
  {
   "cell_type": "code",
   "execution_count": 6,
   "metadata": {},
   "outputs": [
    {
     "name": "stdout",
     "output_type": "stream",
     "text": [
      "\n",
      " The accuracy score: 1.0\n",
      "\n"
     ]
    }
   ],
   "source": [
    "# Predict the training data it should be 100% Accurate as it is the same data that the model was fit to.\n",
    "# We trained the model using X_train and y_train\n",
    "\n",
    "# We now predict y_train from \"X_train\" alone using the clf_dt model\n",
    "\n",
    "# predict the training data y_train\n",
    "y_train_pred = clf_dt.predict(X_train)\n",
    "\n",
    "# Print the Accuracy\n",
    "# The accuracy score when predicting here is:\n",
    "\n",
    "print ('')\n",
    "print(f' The accuracy score: {accuracy_score(  y_train_pred ,  y_train)}')\n",
    "print ('')\n"
   ]
  },
  {
   "cell_type": "code",
   "execution_count": 7,
   "metadata": {},
   "outputs": [
    {
     "name": "stdout",
     "output_type": "stream",
     "text": [
      "There was actually 268 Flood Observations\n",
      "There was actually 158 NO Flood Observations\n"
     ]
    },
    {
     "data": {
      "image/png": "[encoded data removed]",
      "text/plain": [
       "<Figure size 432x288 with 2 Axes>"
      ]
     },
     "metadata": {
      "needs_background": "light"
     },
     "output_type": "display_data"
    }
   ],
   "source": [
    "# Then visually compare it to y_test data using this confusion matrix\n",
    "\n",
    "plot_confusion_matrix(clf_dt, X_train, y_train, display_labels=[\"No Flood\", \"Flood\"])\n",
    "\n",
    "\n",
    "# What is the accuracy of the model when it predicts the training Data\n",
    "\n",
    "print('There was actually ' + str(y_train.sum()) + ' Flood Observations')\n",
    "print('There was actually ' + str(len(y_train)-y_train.sum()) + ' NO Flood Observations')"
   ]
  },
  {
   "cell_type": "code",
   "execution_count": 8,
   "metadata": {},
   "outputs": [
    {
     "name": "stdout",
     "output_type": "stream",
     "text": [
      "There was actually 89 Flood Observations\n",
      "There was actually 54 NO Flood Observations\n",
      "\n",
      " The accuracy score when predicting the test data 0.9440559440559441\n",
      "\n"
     ]
    },
    {
     "data": {
      "image/png": "[encoded data removed]",
      "text/plain": [
       "<Figure size 432x288 with 2 Axes>"
      ]
     },
     "metadata": {
      "needs_background": "light"
     },
     "output_type": "display_data"
    }
   ],
   "source": [
    "# Predict the TESTING data it should be less than 100%\n",
    "\n",
    "# We trained the model using X_train and y_train\n",
    "\n",
    "# We now predict \"y_test\" from \"X_test\" using the clf_dt model\n",
    "\n",
    "# predict the test daya y_test\n",
    "y_test_pred = clf_dt.predict(X_test)\n",
    "\n",
    "# Then compare it to y_test data using this confusion matrix\n",
    "plot_confusion_matrix(clf_dt, X_test, y_test, display_labels=[\"No Flood\", \"Flood\"])\n",
    "\n",
    "# What is the accuracy of the model when it predicts the test Data (should be lower)  \n",
    "print('There was actually ' + str(y_test.sum()) + ' Flood Observations')\n",
    "print('There was actually ' + str(len(y_test)-y_test.sum()) + ' NO Flood Observations')\n",
    "print ('')\n",
    "print(f' The accuracy score when predicting the test data {accuracy_score(y_test_pred,y_test)}')\n",
    "print ('')"
   ]
  },
  {
   "cell_type": "code",
   "execution_count": 9,
   "metadata": {},
   "outputs": [
    {
     "data": {
      "text/plain": [
       "0.9545454545454545"
      ]
     },
     "execution_count": 9,
     "metadata": {},
     "output_type": "execute_result"
    }
   ],
   "source": [
    "def f1_score(clf_dt, X_test, y_test):\n",
    "    y_test_pred = clf_dt.predict(X_test)\n",
    "    CM = metrics.confusion_matrix(y_true = y_test, y_pred = y_test_pred)\n",
    "    TN = CM[0][0]\n",
    "    FN = CM[1][0]\n",
    "    TP = CM[1][1]\n",
    "    FP = CM[0][1]\n",
    "    PPV = TP/(TP+FP)\n",
    "    TPR = TP/(TP+FN)\n",
    "    F1 = 2 * ((PPV*TPR)/(PPV+TPR))\n",
    "    return F1\n",
    "\n",
    "f1_score(clf_dt, X_test, y_test)"
   ]
  },
  {
   "cell_type": "code",
   "execution_count": 10,
   "metadata": {},
   "outputs": [
    {
     "data": {
      "text/plain": [
       "<matplotlib.axes._subplots.AxesSubplot at 0x220134a1ec8>"
      ]
     },
     "execution_count": 10,
     "metadata": {},
     "output_type": "execute_result"
    },
    {
     "data": {
      "image/png": "[encoded data removed]",
      "text/plain": [
       "<Figure size 432x288 with 1 Axes>"
      ]
     },
     "metadata": {
      "needs_background": "light"
     },
     "output_type": "display_data"
    }
   ],
   "source": [
    "# Check how much of a fluke this f1 score is by doing 5 fold cross validation\n",
    "scores = cross_val_score(clf_dt, X_train, y_train, scoring=\"f1\" , cv = 5)\n",
    "df = pd.DataFrame(data = {'tree': range(5), 'F1 Score': scores})\n",
    "df.plot(x = 'tree', y= 'F1 Score', marker = 'o', ls ='--')"
   ]
  },
  {
   "cell_type": "code",
   "execution_count": 11,
   "metadata": {},
   "outputs": [
    {
     "ename": "IndexError",
     "evalue": "index 7 is out of bounds for axis 0 with size 2",
     "output_type": "error",
     "traceback": [
      "\u001b[1;31m---------------------------------------------------------------------------\u001b[0m",
      "\u001b[1;31mIndexError\u001b[0m                                Traceback (most recent call last)",
      "\u001b[1;32m<ipython-input-11-4d3adfde2970>\u001b[0m in \u001b[0;36m<module>\u001b[1;34m\u001b[0m\n\u001b[0;32m      5\u001b[0m \u001b[0mfeatures\u001b[0m \u001b[1;33m=\u001b[0m \u001b[0mdf\u001b[0m\u001b[1;33m.\u001b[0m\u001b[0mcolumns\u001b[0m\u001b[1;33m\u001b[0m\u001b[1;33m\u001b[0m\u001b[0m\n\u001b[0;32m      6\u001b[0m \u001b[0mclasses\u001b[0m \u001b[1;33m=\u001b[0m \u001b[1;33m[\u001b[0m\u001b[1;34m'Flood'\u001b[0m\u001b[1;33m,\u001b[0m\u001b[1;34m'No Flood'\u001b[0m\u001b[1;33m]\u001b[0m \u001b[1;31m# How to know the order.\u001b[0m\u001b[1;33m\u001b[0m\u001b[1;33m\u001b[0m\u001b[0m\n\u001b[1;32m----> 7\u001b[1;33m \u001b[0mtree\u001b[0m\u001b[1;33m.\u001b[0m\u001b[0mplot_tree\u001b[0m\u001b[1;33m(\u001b[0m\u001b[0mclf_dt\u001b[0m\u001b[1;33m,\u001b[0m\u001b[0mfeature_names\u001b[0m\u001b[1;33m=\u001b[0m\u001b[0mfeatures\u001b[0m\u001b[1;33m,\u001b[0m\u001b[0mclass_names\u001b[0m\u001b[1;33m=\u001b[0m\u001b[0mclasses\u001b[0m\u001b[1;33m,\u001b[0m\u001b[0mfilled\u001b[0m\u001b[1;33m=\u001b[0m\u001b[1;32mTrue\u001b[0m\u001b[1;33m)\u001b[0m\u001b[1;33m\u001b[0m\u001b[1;33m\u001b[0m\u001b[0m\n\u001b[0m\u001b[0;32m      8\u001b[0m \u001b[0mplt\u001b[0m\u001b[1;33m.\u001b[0m\u001b[0mshow\u001b[0m\u001b[1;33m(\u001b[0m\u001b[1;33m)\u001b[0m\u001b[1;33m\u001b[0m\u001b[1;33m\u001b[0m\u001b[0m\n",
      "\u001b[1;32m~\\anaconda3\\lib\\site-packages\\sklearn\\utils\\validation.py\u001b[0m in \u001b[0;36minner_f\u001b[1;34m(*args, **kwargs)\u001b[0m\n\u001b[0;32m     71\u001b[0m                           FutureWarning)\n\u001b[0;32m     72\u001b[0m         \u001b[0mkwargs\u001b[0m\u001b[1;33m.\u001b[0m\u001b[0mupdate\u001b[0m\u001b[1;33m(\u001b[0m\u001b[1;33m{\u001b[0m\u001b[0mk\u001b[0m\u001b[1;33m:\u001b[0m \u001b[0marg\u001b[0m \u001b[1;32mfor\u001b[0m \u001b[0mk\u001b[0m\u001b[1;33m,\u001b[0m \u001b[0marg\u001b[0m \u001b[1;32min\u001b[0m \u001b[0mzip\u001b[0m\u001b[1;33m(\u001b[0m\u001b[0msig\u001b[0m\u001b[1;33m.\u001b[0m\u001b[0mparameters\u001b[0m\u001b[1;33m,\u001b[0m \u001b[0margs\u001b[0m\u001b[1;33m)\u001b[0m\u001b[1;33m}\u001b[0m\u001b[1;33m)\u001b[0m\u001b[1;33m\u001b[0m\u001b[1;33m\u001b[0m\u001b[0m\n\u001b[1;32m---> 73\u001b[1;33m         \u001b[1;32mreturn\u001b[0m \u001b[0mf\u001b[0m\u001b[1;33m(\u001b[0m\u001b[1;33m**\u001b[0m\u001b[0mkwargs\u001b[0m\u001b[1;33m)\u001b[0m\u001b[1;33m\u001b[0m\u001b[1;33m\u001b[0m\u001b[0m\n\u001b[0m\u001b[0;32m     74\u001b[0m     \u001b[1;32mreturn\u001b[0m \u001b[0minner_f\u001b[0m\u001b[1;33m\u001b[0m\u001b[1;33m\u001b[0m\u001b[0m\n\u001b[0;32m     75\u001b[0m \u001b[1;33m\u001b[0m\u001b[0m\n",
      "\u001b[1;32m~\\anaconda3\\lib\\site-packages\\sklearn\\tree\\_export.py\u001b[0m in \u001b[0;36mplot_tree\u001b[1;34m(decision_tree, max_depth, feature_names, class_names, label, filled, impurity, node_ids, proportion, rotate, rounded, precision, ax, fontsize)\u001b[0m\n\u001b[0;32m    191\u001b[0m         \u001b[0mproportion\u001b[0m\u001b[1;33m=\u001b[0m\u001b[0mproportion\u001b[0m\u001b[1;33m,\u001b[0m \u001b[0mrotate\u001b[0m\u001b[1;33m=\u001b[0m\u001b[0mrotate\u001b[0m\u001b[1;33m,\u001b[0m \u001b[0mrounded\u001b[0m\u001b[1;33m=\u001b[0m\u001b[0mrounded\u001b[0m\u001b[1;33m,\u001b[0m\u001b[1;33m\u001b[0m\u001b[1;33m\u001b[0m\u001b[0m\n\u001b[0;32m    192\u001b[0m         precision=precision, fontsize=fontsize)\n\u001b[1;32m--> 193\u001b[1;33m     \u001b[1;32mreturn\u001b[0m \u001b[0mexporter\u001b[0m\u001b[1;33m.\u001b[0m\u001b[0mexport\u001b[0m\u001b[1;33m(\u001b[0m\u001b[0mdecision_tree\u001b[0m\u001b[1;33m,\u001b[0m \u001b[0max\u001b[0m\u001b[1;33m=\u001b[0m\u001b[0max\u001b[0m\u001b[1;33m)\u001b[0m\u001b[1;33m\u001b[0m\u001b[1;33m\u001b[0m\u001b[0m\n\u001b[0m\u001b[0;32m    194\u001b[0m \u001b[1;33m\u001b[0m\u001b[0m\n\u001b[0;32m    195\u001b[0m \u001b[1;33m\u001b[0m\u001b[0m\n",
      "\u001b[1;32m~\\anaconda3\\lib\\site-packages\\sklearn\\tree\\_export.py\u001b[0m in \u001b[0;36mexport\u001b[1;34m(self, decision_tree, ax)\u001b[0m\n\u001b[0;32m    583\u001b[0m         \u001b[0max\u001b[0m\u001b[1;33m.\u001b[0m\u001b[0mset_axis_off\u001b[0m\u001b[1;33m(\u001b[0m\u001b[1;33m)\u001b[0m\u001b[1;33m\u001b[0m\u001b[1;33m\u001b[0m\u001b[0m\n\u001b[0;32m    584\u001b[0m         my_tree = self._make_tree(0, decision_tree.tree_,\n\u001b[1;32m--> 585\u001b[1;33m                                   decision_tree.criterion)\n\u001b[0m\u001b[0;32m    586\u001b[0m         \u001b[0mdraw_tree\u001b[0m \u001b[1;33m=\u001b[0m \u001b[0mbuchheim\u001b[0m\u001b[1;33m(\u001b[0m\u001b[0mmy_tree\u001b[0m\u001b[1;33m)\u001b[0m\u001b[1;33m\u001b[0m\u001b[1;33m\u001b[0m\u001b[0m\n\u001b[0;32m    587\u001b[0m \u001b[1;33m\u001b[0m\u001b[0m\n",
      "\u001b[1;32m~\\anaconda3\\lib\\site-packages\\sklearn\\tree\\_export.py\u001b[0m in \u001b[0;36m_make_tree\u001b[1;34m(self, node_id, et, criterion, depth)\u001b[0m\n\u001b[0;32m    563\u001b[0m         \u001b[1;31m# traverses _tree.Tree recursively, builds intermediate\u001b[0m\u001b[1;33m\u001b[0m\u001b[1;33m\u001b[0m\u001b[1;33m\u001b[0m\u001b[0m\n\u001b[0;32m    564\u001b[0m         \u001b[1;31m# \"_reingold_tilford.Tree\" object\u001b[0m\u001b[1;33m\u001b[0m\u001b[1;33m\u001b[0m\u001b[1;33m\u001b[0m\u001b[0m\n\u001b[1;32m--> 565\u001b[1;33m         \u001b[0mname\u001b[0m \u001b[1;33m=\u001b[0m \u001b[0mself\u001b[0m\u001b[1;33m.\u001b[0m\u001b[0mnode_to_str\u001b[0m\u001b[1;33m(\u001b[0m\u001b[0met\u001b[0m\u001b[1;33m,\u001b[0m \u001b[0mnode_id\u001b[0m\u001b[1;33m,\u001b[0m \u001b[0mcriterion\u001b[0m\u001b[1;33m=\u001b[0m\u001b[0mcriterion\u001b[0m\u001b[1;33m)\u001b[0m\u001b[1;33m\u001b[0m\u001b[1;33m\u001b[0m\u001b[0m\n\u001b[0m\u001b[0;32m    566\u001b[0m         if (et.children_left[node_id] != _tree.TREE_LEAF\n\u001b[0;32m    567\u001b[0m                 and (self.max_depth is None or depth <= self.max_depth)):\n",
      "\u001b[1;32m~\\anaconda3\\lib\\site-packages\\sklearn\\tree\\_export.py\u001b[0m in \u001b[0;36mnode_to_str\u001b[1;34m(self, tree, node_id, criterion)\u001b[0m\n\u001b[0;32m    284\u001b[0m             \u001b[1;31m# Always write node decision criteria, except for leaves\u001b[0m\u001b[1;33m\u001b[0m\u001b[1;33m\u001b[0m\u001b[1;33m\u001b[0m\u001b[0m\n\u001b[0;32m    285\u001b[0m             \u001b[1;32mif\u001b[0m \u001b[0mself\u001b[0m\u001b[1;33m.\u001b[0m\u001b[0mfeature_names\u001b[0m \u001b[1;32mis\u001b[0m \u001b[1;32mnot\u001b[0m \u001b[1;32mNone\u001b[0m\u001b[1;33m:\u001b[0m\u001b[1;33m\u001b[0m\u001b[1;33m\u001b[0m\u001b[0m\n\u001b[1;32m--> 286\u001b[1;33m                 \u001b[0mfeature\u001b[0m \u001b[1;33m=\u001b[0m \u001b[0mself\u001b[0m\u001b[1;33m.\u001b[0m\u001b[0mfeature_names\u001b[0m\u001b[1;33m[\u001b[0m\u001b[0mtree\u001b[0m\u001b[1;33m.\u001b[0m\u001b[0mfeature\u001b[0m\u001b[1;33m[\u001b[0m\u001b[0mnode_id\u001b[0m\u001b[1;33m]\u001b[0m\u001b[1;33m]\u001b[0m\u001b[1;33m\u001b[0m\u001b[1;33m\u001b[0m\u001b[0m\n\u001b[0m\u001b[0;32m    287\u001b[0m             \u001b[1;32melse\u001b[0m\u001b[1;33m:\u001b[0m\u001b[1;33m\u001b[0m\u001b[1;33m\u001b[0m\u001b[0m\n\u001b[0;32m    288\u001b[0m                 feature = \"X%s%s%s\" % (characters[1],\n",
      "\u001b[1;32m~\\anaconda3\\lib\\site-packages\\pandas\\core\\indexes\\base.py\u001b[0m in \u001b[0;36m__getitem__\u001b[1;34m(self, key)\u001b[0m\n\u001b[0;32m   3928\u001b[0m         \u001b[1;32mif\u001b[0m \u001b[0mis_scalar\u001b[0m\u001b[1;33m(\u001b[0m\u001b[0mkey\u001b[0m\u001b[1;33m)\u001b[0m\u001b[1;33m:\u001b[0m\u001b[1;33m\u001b[0m\u001b[1;33m\u001b[0m\u001b[0m\n\u001b[0;32m   3929\u001b[0m             \u001b[0mkey\u001b[0m \u001b[1;33m=\u001b[0m \u001b[0mcom\u001b[0m\u001b[1;33m.\u001b[0m\u001b[0mcast_scalar_indexer\u001b[0m\u001b[1;33m(\u001b[0m\u001b[0mkey\u001b[0m\u001b[1;33m)\u001b[0m\u001b[1;33m\u001b[0m\u001b[1;33m\u001b[0m\u001b[0m\n\u001b[1;32m-> 3930\u001b[1;33m             \u001b[1;32mreturn\u001b[0m \u001b[0mgetitem\u001b[0m\u001b[1;33m(\u001b[0m\u001b[0mkey\u001b[0m\u001b[1;33m)\u001b[0m\u001b[1;33m\u001b[0m\u001b[1;33m\u001b[0m\u001b[0m\n\u001b[0m\u001b[0;32m   3931\u001b[0m \u001b[1;33m\u001b[0m\u001b[0m\n\u001b[0;32m   3932\u001b[0m         \u001b[1;32mif\u001b[0m \u001b[0misinstance\u001b[0m\u001b[1;33m(\u001b[0m\u001b[0mkey\u001b[0m\u001b[1;33m,\u001b[0m \u001b[0mslice\u001b[0m\u001b[1;33m)\u001b[0m\u001b[1;33m:\u001b[0m\u001b[1;33m\u001b[0m\u001b[1;33m\u001b[0m\u001b[0m\n",
      "\u001b[1;31mIndexError\u001b[0m: index 7 is out of bounds for axis 0 with size 2"
     ]
    },
    {
     "data": {
      "image/png": "[encoded data removed]",
      "text/plain": [
       "<Figure size 1440x1440 with 1 Axes>"
      ]
     },
     "metadata": {
      "needs_background": "light"
     },
     "output_type": "display_data"
    }
   ],
   "source": [
    "# Now we will viualise the decision tree where I think all terminal leaf nodes should be pure.\n",
    "\n",
    "from sklearn import tree\n",
    "plt.figure(figsize=(20,20))\n",
    "features = df.columns\n",
    "classes = ['Flood','No Flood'] # How to know the order.\n",
    "tree.plot_tree(clf_dt,feature_names=features,class_names=classes,filled=True)\n",
    "plt.show()"
   ]
  },
  {
   "cell_type": "markdown",
   "metadata": {},
   "source": [
    "# Part one: Making an initial model ------ END"
   ]
  },
  {
   "cell_type": "markdown",
   "metadata": {},
   "source": [
    "# Part two i: Optimization of model finding the best parameter alpha.\n",
    "\n",
    "# Done via first optmizing for accuracy\n",
    "# Then for F1 score (where multiple top accuracies are found"
   ]
  },
  {
   "cell_type": "markdown",
   "metadata": {},
   "source": [
    "# --------------------- Finding the possible alphas : start ----------------"
   ]
  },
  {
   "cell_type": "code",
   "execution_count": null,
   "metadata": {},
   "outputs": [],
   "source": [
    "# Determine the possible alphas and corresponding impurity in the leaf nodes\n",
    "\n",
    "path = clf_dt.cost_complexity_pruning_path(X_train, y_train)"
   ]
  },
  {
   "cell_type": "code",
   "execution_count": null,
   "metadata": {},
   "outputs": [],
   "source": [
    "# We can visualise this\n",
    "\n",
    "ccp_alphas, impurities = path.ccp_alphas, path.impurities\n",
    "plt.figure(figsize=(10,6))\n",
    "plt.plot(ccp_alphas,impurities)\n",
    "plt.xlabel(\"effective alpha\")\n",
    "plt.ylabel(\"total impurity of terminal leaf nodes\")"
   ]
  },
  {
   "cell_type": "code",
   "execution_count": null,
   "metadata": {},
   "outputs": [],
   "source": [
    "#Extract the alphas -returns in array format\n",
    "ccp_alphas = path.ccp_alphas"
   ]
  },
  {
   "cell_type": "code",
   "execution_count": null,
   "metadata": {},
   "outputs": [],
   "source": [
    "#Remove the last alpha -(which is just the root)\n",
    "ccp_alphas = ccp_alphas[:-1]"
   ]
  },
  {
   "cell_type": "markdown",
   "metadata": {},
   "source": [
    "# --------------------- Finding the possible alphas : End ----------------"
   ]
  },
  {
   "cell_type": "markdown",
   "metadata": {},
   "source": [
    "# Using accuracy as a quality metric ----- START"
   ]
  },
  {
   "cell_type": "code",
   "execution_count": null,
   "metadata": {},
   "outputs": [],
   "source": [
    "# We do this by making a decision tree for every alpha\n",
    "\n",
    "# List of decision trees - There will be one for every possible alpha\n",
    "clf_dts = []"
   ]
  },
  {
   "cell_type": "code",
   "execution_count": null,
   "metadata": {},
   "outputs": [],
   "source": [
    "# We run a loop for all of the alphas and put all of the DT into an array\n",
    "\n",
    "# We make a list of DT for every alpha\n",
    "for ccp_alpha in ccp_alphas:\n",
    "    clf_dt = DecisionTreeClassifier(random_state = 0, ccp_alpha = ccp_alpha)\n",
    "    clf_dt.fit(X_train,y_train)\n",
    "    clf_dts.append(clf_dt)\n",
    "    pass\n"
   ]
  },
  {
   "cell_type": "code",
   "execution_count": null,
   "metadata": {},
   "outputs": [],
   "source": [
    "# We find the accuracy for every DT on the training data and test data for each\n",
    "# of the new alpha decision trees\n",
    "\n",
    "train_scores =  [         clf_dt.score(X_train, y_train)    for clf_dt      in clf_dts       ]\n",
    "test_scores =  [         clf_dt.score(X_test, y_test)    for clf_dt      in clf_dts       ]\n",
    "\n",
    "alpha_df = pd.DataFrame(ccp_alphas, columns = [\"Alphas\"])\n",
    "train_scores_df = pd.DataFrame(train_scores, columns = [\"Train Score\"])\n",
    "test_scores_df = pd.DataFrame(test_scores, columns = [\"Test Score\"])\n",
    "\n",
    "\n",
    "alpha_frame = alpha_df.join( [train_scores_df , test_scores_df] )\n",
    "alpha_frame"
   ]
  },
  {
   "cell_type": "code",
   "execution_count": null,
   "metadata": {},
   "outputs": [],
   "source": [
    "# Plotting the above\n",
    "ax = plt.subplot()\n",
    "ax.set_xlabel(\"alpha\")\n",
    "ax.set_ylabel(\"accuracy\")\n",
    "ax.set_title(\"Accuracy vs alphas(Training and Testing Sets)\")\n",
    "ax.plot(ccp_alphas, train_scores, marker = 'o' , label = \"train\" , drawstyle = \"steps-post\")\n",
    "ax.plot(ccp_alphas, test_scores, marker = 'o' , label = \"test\" , drawstyle = \"steps-post\")\n",
    "\n",
    "ax.legend()\n",
    "plt.show"
   ]
  },
  {
   "cell_type": "code",
   "execution_count": null,
   "metadata": {},
   "outputs": [],
   "source": []
  },
  {
   "cell_type": "code",
   "execution_count": null,
   "metadata": {},
   "outputs": [],
   "source": [
    "# From inspection above you can see that the accuracy of the model\n",
    "# looks best where the test line peaks\n",
    "# This may not be the optimal value\n",
    "# We use cross validation and different folds to work out what the best alpha is\n",
    "\n",
    "# Using a different number of folds - is splitting the data into training and testing in different ways\n",
    "\n",
    "# CROSS VALIDATION TO FIND THE BEST ALPHA\n",
    "\n",
    "# An array to store the results of each fold\n",
    "alpha_loop_values = []\n",
    "\n",
    "\n",
    "# We then run a loop for all of the alphas with a 5 fold cross validation\n",
    "\n",
    "for ccp_alpha in ccp_alphas:\n",
    "    \n",
    "    clf_dt = DecisionTreeClassifier(random_state = 0, ccp_alpha = ccp_alpha)\n",
    "    clf_dt.fit(X_train,y_train)\n",
    "    \n",
    "    # Produce a set of accuracy scores for 5 folds\n",
    "    scores = cross_val_score(clf_dt, X_train, y_train, cv = 5)\n",
    "    \n",
    "    # Add to the array the an alpha column mean cross_val_score\n",
    "    alpha_loop_values.append([  ccp_alpha  ,  np.mean(scores)  ,  np.std(scores) ])\n",
    "    \n",
    "    pass\n"
   ]
  },
  {
   "cell_type": "code",
   "execution_count": null,
   "metadata": {},
   "outputs": [],
   "source": [
    "alpha_results = pd.DataFrame(alpha_loop_values, columns = ['alpha', 'mean_accuracy' ,  'std' ])\n",
    "alpha_results"
   ]
  },
  {
   "cell_type": "code",
   "execution_count": null,
   "metadata": {},
   "outputs": [],
   "source": [
    "alpha_results.plot(x=\"alpha\",y='mean_accuracy', yerr = 'std' , marker ='o', ls = '--')"
   ]
  },
  {
   "cell_type": "code",
   "execution_count": null,
   "metadata": {},
   "outputs": [],
   "source": [
    "alpha_results"
   ]
  },
  {
   "cell_type": "code",
   "execution_count": null,
   "metadata": {},
   "outputs": [],
   "source": [
    "\n",
    "###########################################################################\n",
    "# Find the highest accuracy ALPHA\n",
    "a = alpha_results.loc[alpha_results['mean_accuracy'] == alpha_results['mean_accuracy'].max(),'alpha']\n",
    "\n",
    "\n",
    "best_alphas = alpha_results[alpha_results['mean_accuracy'] == alpha_results['mean_accuracy'].max()].copy()\n",
    "\n",
    "best_alphas"
   ]
  },
  {
   "cell_type": "markdown",
   "metadata": {},
   "source": [
    "# Using accuracy a a quality metric ----- END\n"
   ]
  },
  {
   "cell_type": "markdown",
   "metadata": {},
   "source": [
    "# Iterate through the best alphas to find the one with the lowest f1 score. (Additional, likely not needed with real data)---START"
   ]
  },
  {
   "cell_type": "code",
   "execution_count": null,
   "metadata": {},
   "outputs": [],
   "source": [
    "from sklearn import metrics\n",
    "f1s = []\n",
    "\n",
    "for alpha in best_alphas['alpha']:\n",
    "    clf_dt = DecisionTreeClassifier(random_state = 0, ccp_alpha = alpha)\n",
    "    clf_dt.fit(X_train,y_train)\n",
    "    \n",
    "    y_test_pred = clf_dt.predict(X_test)\n",
    "    \n",
    "    CM = metrics.confusion_matrix(y_true = y_test, y_pred = y_test_pred)\n",
    "    TN = CM[0][0]\n",
    "    FN = CM[1][0]\n",
    "    TP = CM[1][1]\n",
    "    FP = CM[0][1]\n",
    "    PPV = TP/(TP+FP)\n",
    "    TPR = TP/(TP+FN)\n",
    "    F1 = 2 * ((PPV*TPR)/(PPV+TPR))\n",
    "    \n",
    "    f1s.append(F1)\n",
    "    pass\n"
   ]
  },
  {
   "cell_type": "code",
   "execution_count": null,
   "metadata": {},
   "outputs": [],
   "source": [
    "best_alphas['F1s'] = f1s\n",
    "\n",
    "best_alphas"
   ]
  },
  {
   "cell_type": "code",
   "execution_count": null,
   "metadata": {},
   "outputs": [],
   "source": [
    "ideal_ccp_alpha = best_alphas[best_alphas['F1s'] == best_alphas['F1s'].max()]['alpha'].max()\n",
    "\n",
    "###########################################################################\n",
    "\n",
    "# I think this will return an error on randint generated data sets with\n",
    "# there being so little difference in mean accuracy between alphas\n",
    "\n",
    "\n",
    "# THESE MAY NEED TO BE INDIVIDUALLY STUDIED\n",
    "\n",
    "ideal_ccp_alpha\n",
    "\n",
    "###########################################################################"
   ]
  },
  {
   "cell_type": "code",
   "execution_count": null,
   "metadata": {},
   "outputs": [],
   "source": [
    "###########################################################################\n",
    "# REPLOT WITH THE ACCURATE ALPHA\n",
    "clf_dt_pruned = DecisionTreeClassifier(random_state=4, ccp_alpha = ideal_ccp_alpha)\n",
    "clf_dt_pruned = clf_dt_pruned.fit(X_train, y_train)\n",
    "\n",
    "###########################################################################"
   ]
  },
  {
   "cell_type": "code",
   "execution_count": null,
   "metadata": {},
   "outputs": [],
   "source": [
    "# Plot\n",
    "# The Tree\n",
    "plt.figure(figsize=(15,7.5))\n",
    "tree.plot_tree(clf_dt_pruned,feature_names=features,class_names=classes,filled=True)\n",
    "plt.show()"
   ]
  },
  {
   "cell_type": "code",
   "execution_count": null,
   "metadata": {},
   "outputs": [],
   "source": []
  },
  {
   "cell_type": "code",
   "execution_count": null,
   "metadata": {},
   "outputs": [],
   "source": [
    "# Predict the training data it should be 100%  \n",
    "# - Not really need but provides a sanity test and could show if any mistakes have crept up\n",
    "\n",
    "# We trained the model using X_train and y_train\n",
    "\n",
    "# Then compare it to y_test data using this confusion matrix\n",
    "\n",
    "plot_confusion_matrix(clf_dt_pruned, X_train, y_train, display_labels=[\"No Flood\", \"Flood\"])\n",
    "\n",
    "# predict the training data y_train\n",
    "y_train_pred = clf_dt_pruned.predict(X_train)\n",
    "\n",
    "# What is the accuracy of the model when it predicts the ___ Training Data\n",
    "print ('')\n",
    "print(f' The accuracy score when predicting the training data (should be high) here it is {accuracy_score(  y_train_pred ,  y_train)}')\n",
    "print ('')\n",
    "print('There was actually ' + str(y_train.sum()) + ' Flood Observations')\n",
    "print('There was actually ' + str(len(y_train)-y_train.sum()) + ' NO Flood Observations')"
   ]
  },
  {
   "cell_type": "code",
   "execution_count": null,
   "metadata": {},
   "outputs": [],
   "source": [
    "# Predict the TESTING data it should be less than 100%\n",
    "\n",
    "# We trained the model using X_train and y_train\n",
    "\n",
    "# We now predict y from \"X_test\" using the clf_dt model\n",
    "\n",
    "# predict the test daya y_test\n",
    "y_test_pred = clf_dt_pruned.predict(X_test)\n",
    "\n",
    "# Then compare it to y_test data using this confusion matrix\n",
    "plot_confusion_matrix(clf_dt_pruned, X_test, y_test, display_labels=[\"No Flood\", \"Flood\"])\n",
    "\n",
    "\n",
    "\n",
    "# What is the accuracy of the model when it predicts the ___ Test Data\n",
    "print ('')\n",
    "print(f' The accuracy score when predicting the test data (should be lower)  {accuracy_score(y_test_pred,y_test)}')\n",
    "print ('')"
   ]
  },
  {
   "cell_type": "markdown",
   "metadata": {},
   "source": [
    "The f1-score for this model is:"
   ]
  },
  {
   "cell_type": "code",
   "execution_count": null,
   "metadata": {},
   "outputs": [],
   "source": [
    "def f1_score(clf_dt, X_test, y_test):\n",
    "    y_test_pred = clf_dt.predict(X_test)\n",
    "    CM = metrics.confusion_matrix(y_true = y_test, y_pred = y_test_pred)\n",
    "    TN = CM[0][0]\n",
    "    FN = CM[1][0]\n",
    "    TP = CM[1][1]\n",
    "    FP = CM[0][1]\n",
    "    PPV = TP/(TP+FP)\n",
    "    TPR = TP/(TP+FN)\n",
    "    F1 = 2 * ((PPV*TPR)/(PPV+TPR))\n",
    "    return F1\n",
    "\n",
    "f1_score(clf_dt_pruned, X_test, y_test)"
   ]
  },
  {
   "cell_type": "code",
   "execution_count": null,
   "metadata": {},
   "outputs": [],
   "source": [
    "ideal_ccp_alpha"
   ]
  },
  {
   "cell_type": "markdown",
   "metadata": {},
   "source": [
    "# Iterate through the best alphas to find the one with the lowest f1 score. (Additional, likely not needed with real data)---END"
   ]
  },
  {
   "cell_type": "markdown",
   "metadata": {},
   "source": [
    "The best alpha has now been found\n",
    "\n",
    "The above tree is now optimized."
   ]
  },
  {
   "cell_type": "code",
   "execution_count": null,
   "metadata": {},
   "outputs": [],
   "source": []
  },
  {
   "cell_type": "code",
   "execution_count": null,
   "metadata": {},
   "outputs": [],
   "source": []
  },
  {
   "cell_type": "markdown",
   "metadata": {},
   "source": [
    "# THOUGHT\n",
    "\n",
    "# It may be better to optimize for f1 alone and not accuracy at all during the pruning stage given data input may have an unequal amount of postive and negative labels"
   ]
  },
  {
   "cell_type": "code",
   "execution_count": null,
   "metadata": {},
   "outputs": [],
   "source": [
    "# Step 7 - Get predictions = your final results"
   ]
  },
  {
   "cell_type": "code",
   "execution_count": null,
   "metadata": {},
   "outputs": [],
   "source": [
    "# After collecting data an extra column will need to be added\n",
    "# it will be a show of that are about to flood based on previous flood.\n",
    "# {No flood, about to flood, flooded}"
   ]
  },
  {
   "cell_type": "markdown",
   "metadata": {},
   "source": [
    "# Finding best alpha with just f1 score"
   ]
  },
  {
   "cell_type": "code",
   "execution_count": null,
   "metadata": {},
   "outputs": [],
   "source": [
    "# We do this by making a decision tree for every alpha\n",
    "ccp_alphas"
   ]
  },
  {
   "cell_type": "code",
   "execution_count": null,
   "metadata": {},
   "outputs": [],
   "source": [
    "# List of decision trees - There will be one for every possible alpha\n",
    "clf_dts = []\n",
    "\n",
    "# We run a loop for all of the alphas and put all of the DT into an array\n",
    "\n",
    "# We make a list of DT for every alpha\n",
    "for ccp_alpha in ccp_alphas:\n",
    "    clf_dt = DecisionTreeClassifier(random_state = 0, ccp_alpha = ccp_alpha)\n",
    "    clf_dt.fit(X_train,y_train)\n",
    "    clf_dts.append(clf_dt)\n",
    "    pass\n",
    "\n",
    "\n",
    "# We find the F1 SCORE for every DT on the training data and test data for each\n",
    "# of the new alpha decision trees\n",
    "\n",
    "def f1_score(clf_dt, X_test, y_test):\n",
    "    y_test_pred = clf_dt.predict(X_test)\n",
    "    CM = metrics.confusion_matrix(y_true = y_test, y_pred = y_test_pred)\n",
    "    TN = CM[0][0]\n",
    "    FN = CM[1][0]\n",
    "    TP = CM[1][1]\n",
    "    FP = CM[0][1]\n",
    "    PPV = TP/(TP+FP)\n",
    "    TPR = TP/(TP+FN)\n",
    "    F1 = 2 * ((PPV*TPR)/(PPV+TPR))\n",
    "    return F1\n",
    "\n",
    "\n",
    "train_scores =  [f1_score(clf_dt, X_train, y_train)    for clf_dt      in clf_dts       ]\n",
    "test_scores =  [f1_score(clf_dt, X_test, y_test)    for clf_dt      in clf_dts       ]\n",
    "\n",
    "alpha_df = pd.DataFrame(ccp_alphas, columns = [\"Alphas\"])\n",
    "train_scores_df = pd.DataFrame(train_scores, columns = [\"Train F1 Score\"])\n",
    "test_scores_df = pd.DataFrame(test_scores, columns = [\"Test F1 Score\"])\n",
    "\n",
    "alpha_frame = alpha_df.join( [train_scores_df , test_scores_df] )\n",
    "alpha_frame\n",
    "\n",
    "# Plotting the above\n",
    "ax = plt.subplot()\n",
    "ax.set_xlabel(\"alpha\")\n",
    "ax.set_ylabel(\"F1 Score\")\n",
    "ax.set_title(\"F1 Score vs alphas (Training and Testing Sets)\")\n",
    "ax.plot(ccp_alphas, train_scores, marker = 'o' , label = \"train\" , drawstyle = \"steps-post\")\n",
    "ax.plot(ccp_alphas, test_scores, marker = 'o' , label = \"test\" , drawstyle = \"steps-post\")\n",
    "ax.legend()\n",
    "plt.show\n"
   ]
  },
  {
   "cell_type": "code",
   "execution_count": null,
   "metadata": {},
   "outputs": [],
   "source": [
    "# From inspection above you can see that the accuracy of the model\n",
    "# looks best where the test line peaks\n",
    "# This may not be the optimal value\n",
    "# We use cross validation and different folds to work out what the best alpha is\n",
    "\n",
    "# With 5-fold cross validation we create 5 different training and testing datasets\n",
    "# that are used to train and test the tree\n",
    "\n",
    "\n",
    "# Example explanation:\n",
    "# Below returns a list of 5 scores for a decision tree for the tenth alpha\n",
    "clf_dt = DecisionTreeClassifier(random_state = 0, ccp_alpha = ccp_alphas[10])\n",
    "\n",
    "scores = cross_val_score(clf_dt, X_train, y_train, scoring=\"f1\" , cv = 5)\n",
    "df = pd.DataFrame(data = {'tree': range(5), 'F1 Score': scores})\n",
    "df.plot(x = 'tree', y= 'F1 Score', marker = 'o', ls ='--')"
   ]
  },
  {
   "cell_type": "code",
   "execution_count": null,
   "metadata": {},
   "outputs": [],
   "source": [
    "# From inspection above you can see that the F1 score of the model\n",
    "# varies for the same alpha depending on how the data is split\n",
    "\n",
    "\n",
    "# We use cross validation and different folds to work out what the best alpha is\n",
    "# by averaging the f1 score for each 5 of the folds per alpha\n",
    "\n",
    "\n",
    "# CROSS VALIDATION TO FIND THE BEST ALPHA\n",
    "\n",
    "# An array to store the results of each fold\n",
    "alpha_loop_values = []\n",
    "\n",
    "\n",
    "def range_of_vals(x, axis=0):\n",
    "    return np.max(x, axis=axis) - np.min(x, axis=axis)\n",
    "\n",
    "# We then run a loop for all of the alphas with a 5 fold cross validation\n",
    "\n",
    "for ccp_alpha in ccp_alphas:\n",
    "    clf_dt = DecisionTreeClassifier(random_state = 0, ccp_alpha = ccp_alpha)\n",
    "    clf_dt.fit(X_train,y_train)\n",
    "    \n",
    "    # Produce a set of F1-Score scores for 5 folds\n",
    "    scores = cross_val_score(clf_dt, X_train, y_train, scoring=\"f1\" , cv = 5)\n",
    "    # Add to the array the an alpha column mean cross_val_score\n",
    "    alpha_loop_values.append([  ccp_alpha  ,  np.mean(scores)  ,  np.std(scores), range_of_vals(scores) ])\n",
    "    pass\n",
    "\n",
    "\n",
    "\n",
    "alpha_results = pd.DataFrame(alpha_loop_values, columns = ['alpha', 'mean_f1_score' ,  'std', 'range' ])\n",
    "alpha_results\n",
    "\n"
   ]
  },
  {
   "cell_type": "code",
   "execution_count": null,
   "metadata": {},
   "outputs": [],
   "source": [
    "alpha_results.plot(x=\"alpha\",y='mean_f1_score', yerr = 'range' , marker ='o', ls = '--')\n",
    "alpha_results.plot(x=\"alpha\",y='mean_f1_score', yerr = 'std' , marker ='o', ls = '--')\n"
   ]
  },
  {
   "cell_type": "code",
   "execution_count": null,
   "metadata": {},
   "outputs": [],
   "source": [
    "# Even though the above mean f1 scores can have considerable std and range...\n",
    "# ... Note that they may be insignicant when it comes to real data sets.\n",
    "# ... It is likely that the best model will be that with the highest average f1-score\n",
    "\n",
    "###########################################################################\n",
    "# Find the highest mean F1 scoring ALPHA\n",
    "a = alpha_results.loc[alpha_results['mean_f1_score'] == alpha_results['mean_f1_score'].max(),'alpha']\n",
    "\n",
    "\n",
    "best_alphas = alpha_results[alpha_results['mean_f1_score'] == alpha_results['mean_f1_score'].max()].copy()\n",
    "\n",
    "best_alphas"
   ]
  },
  {
   "cell_type": "code",
   "execution_count": null,
   "metadata": {},
   "outputs": [],
   "source": [
    "ideal_ccp_alpha = best_alphas[best_alphas['mean_f1_score'] == best_alphas['mean_f1_score'].max()]['alpha'].max()\n",
    "\n",
    "###########################################################################\n",
    "# REPLOT WITH THE ACCURATE ALPHA\n",
    "clf_dt_pruned = DecisionTreeClassifier(random_state=4, ccp_alpha = ideal_ccp_alpha)\n",
    "clf_dt_pruned = clf_dt_pruned.fit(X_train, y_train)\n",
    "\n",
    "###########################################################################\n",
    "\n",
    "# Plot\n",
    "# The Tree\n",
    "plt.figure(figsize=(15,7.5))\n",
    "tree.plot_tree(clf_dt_pruned,feature_names=features,class_names=classes,filled=True)\n",
    "plt.show()"
   ]
  },
  {
   "cell_type": "code",
   "execution_count": null,
   "metadata": {},
   "outputs": [],
   "source": [
    "# Predict the training data it should be 100%  \n",
    "# - Not really need but provides a sanity test and could show if any mistakes have crept up\n",
    "\n",
    "# We trained the model using X_train and y_train\n",
    "\n",
    "\n",
    "# Then compare it to y_test data using this confusion matrix\n",
    "\n",
    "plot_confusion_matrix(clf_dt_pruned, X_train, y_train, display_labels=[\"No Flood\", \"Flood\"])\n",
    "\n",
    "# predict the training data y_train\n",
    "y_train_pred = clf_dt_pruned.predict(X_train)\n",
    "\n",
    "# What is the accuracy of the model when it predicts the ___ Training Data\n",
    "print ('')\n",
    "print(f' The accuracy score when predicting the training data (should be high) here it is {accuracy_score(  y_train_pred ,  y_train)}')\n",
    "print ('')\n",
    "print('There was actually ' + str(y_train.sum()) + ' Flood Observations')\n",
    "print('There was actually ' + str(len(y_train)-y_train.sum()) + ' NO Flood Observations')\n",
    "\n",
    "# Predict the TESTING data it should be less than 100%\n",
    "\n",
    "# We trained the model using X_train and y_train\n",
    "\n",
    "# We now predict y from \"X_test\" using the clf_dt model\n",
    "\n",
    "# predict the test daya y_test\n",
    "y_test_pred = clf_dt_pruned.predict(X_test)\n",
    "\n",
    "# Then compare it to y_test data using this confusion matrix\n",
    "plot_confusion_matrix(clf_dt_pruned, X_test, y_test, display_labels=[\"No Flood\", \"Flood\"])\n",
    "\n",
    "\n",
    "\n",
    "# What is the accuracy of the model when it predicts the ___ Test Data\n",
    "print ('')\n",
    "print(f' The accuracy score when predicting the test data (should be lower)  {accuracy_score(y_test_pred,y_test)}')\n",
    "print ('')"
   ]
  },
  {
   "cell_type": "code",
   "execution_count": null,
   "metadata": {},
   "outputs": [],
   "source": [
    "f1_score(clf_dt_pruned, X_test, y_test)"
   ]
  },
  {
   "cell_type": "code",
   "execution_count": null,
   "metadata": {},
   "outputs": [],
   "source": [
    "ideal_ccp_alpha"
   ]
  },
  {
   "cell_type": "code",
   "execution_count": null,
   "metadata": {},
   "outputs": [],
   "source": [
    "# note this final result of the error metrics here is lower than that of the original initial iteration.\n",
    "\n",
    "# One might presume that the orginal split was an overfit fluke.\n",
    "# The final f1_score may be lower but it will generalise better to new unseen data"
   ]
  }
 ],
 "metadata": {
  "kernelspec": {
   "display_name": "Python 3",
   "language": "python",
   "name": "python3"
  },
  "language_info": {
   "codemirror_mode": {
    "name": "ipython",
    "version": 3
   },
   "file_extension": ".py",
   "mimetype": "text/x-python",
   "name": "python",
   "nbconvert_exporter": "python",
   "pygments_lexer": "ipython3",
   "version": "3.7.7"
  }
 },
 "nbformat": 4,
 "nbformat_minor": 4
}
